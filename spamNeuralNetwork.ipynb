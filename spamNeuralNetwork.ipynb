{
  "nbformat": 4,
  "nbformat_minor": 0,
  "metadata": {
    "colab": {
      "name": "spamNeuralNetwork.ipynb",
      "version": "0.3.2",
      "provenance": []
    },
    "kernelspec": {
      "name": "python3",
      "display_name": "Python 3"
    },
    "accelerator": "GPU"
  },
  "cells": [
    {
      "cell_type": "markdown",
      "metadata": {
        "id": "view-in-github",
        "colab_type": "text"
      },
      "source": [
        "[View in Colaboratory](https://colab.research.google.com/github/rabex028/machine_learning_skynet/blob/master/spamNeuralNetwork.ipynb)"
      ]
    },
    {
      "metadata": {
        "id": "8jcm4oO8Qsh1",
        "colab_type": "text"
      },
      "cell_type": "markdown",
      "source": [
        "##Setting up imports (including dataset)"
      ]
    },
    {
      "metadata": {
        "id": "32ymYlm57pqs",
        "colab_type": "code",
        "colab": {}
      },
      "cell_type": "code",
      "source": [
        "import sys\n",
        "import tensorflow as tf\n",
        "import numpy as np\n",
        "import argparse\n",
        "import os\n",
        "import shutil\n",
        "import pandas as pd\n",
        "!pip install gspread\n",
        "import gspread\n",
        "import io\n",
        "from sklearn.model_selection import train_test_split\n",
        "\n",
        "\n",
        "#Package for neural networks\n",
        "!pip install -q keras\n",
        "import keras\n",
        "from keras.models import Sequential\n",
        "from keras.layers import Dense\n",
        "\n",
        "from google.colab import files\n",
        "uploaded = files.upload()\n",
        "\n",
        "spambase = pd.read_csv(io.StringIO(uploaded['spambase.csv'].decode('utf-8')), header = None)\n",
        "spambase"
      ],
      "execution_count": 0,
      "outputs": []
    },
    {
      "metadata": {
        "id": "X2OAPTEQEd6B",
        "colab_type": "text"
      },
      "cell_type": "markdown",
      "source": [
        "##Initial Hypothesis\n",
        "\n",
        "It doesn't look like there are hard and fast rules as to how many nodes should be in each layer, or how many layers there are, but a common starting point is an input layer with the number of features in each example, and the first hidden layer being half this amount. So our initial results will likely involve an input layer defined with 57 nodes to match the number of our features, and first hidden layer with 28 or so nodes. I think it might be better for our hidden layers to have a progressively smaller amount of nodes per level, which would mean that there will need to be aggregation of the results in previous layers. It might make sense then to go through the list of features and consider which ones may indicate an email is more likely to be spam and not spam (or neutral) and we can group our layers and nodes that way, and the result will be more effective."
      ]
    },
    {
      "metadata": {
        "id": "cPUtP2HZQbom",
        "colab_type": "text"
      },
      "cell_type": "markdown",
      "source": [
        "##Creating and Running the Network (TensorFlow)"
      ]
    },
    {
      "metadata": {
        "id": "VoLqMTik9Uig",
        "colab_type": "code",
        "colab": {
          "base_uri": "https://localhost:8080/",
          "height": 136
        },
        "outputId": "2b34f27e-0b81-4278-f161-91a3aebea9ad"
      },
      "cell_type": "code",
      "source": [
        "# Seperates independent and dependent variables\n",
        "X = spambase.iloc[:,0:57].values\n",
        "Y = spambase.iloc[:,57].values\n",
        "\n",
        "# Uses sklearn module\n",
        "# Creates training and test sets randomly with test set 20% of the data\n",
        "X_train, X_test, Y_train, Y_test = train_test_split(X, Y, test_size = 0.2, random_state = 42)\n",
        "\n",
        "# Defining Architecture \n",
        "# Only one hidden layer (for now)\n",
        "def multilayer_perceptron(x, weights, biases, keep_prob):\n",
        "    layer_1 = tf.add(tf.matmul(x, weights['h1']), biases['b1'])\n",
        "    layer_1 = tf.nn.relu(layer_1)\n",
        "    layer_1 = tf.nn.dropout(layer_1, keep_prob)\n",
        "    out_layer = tf.matmul(layer_1, weights['out']) + biases['out']\n",
        "    return out_layer\n",
        "  \n",
        "# Defining amounts of nodes, number of classifications\n",
        "n_hidden_1 = 28\n",
        "n_input = X_train.shape[1]\n",
        "n_classes = 2\n",
        "\n",
        "# Sets up weights and biases (connects nodes)\n",
        "weights = {\n",
        "    'h1': tf.Variable(tf.random_normal([n_input, n_hidden_1])),\n",
        "    'out': tf.Variable(tf.random_normal([n_hidden_1, n_classes]))\n",
        "}\n",
        "\n",
        "biases = {\n",
        "    'b1': tf.Variable(tf.random_normal([n_hidden_1])),\n",
        "    'out': tf.Variable(tf.random_normal([n_classes]))\n",
        "}\n",
        "\n",
        "keep_prob = tf.placeholder(\"float\")\n",
        "\n",
        "# 5000 training optimization runs, results every 1000, 32 rows loaded in each time\n",
        "training_epochs = 5000\n",
        "display_step = 1000\n",
        "batch_size = 32\n",
        "\n",
        "x = tf.placeholder(\"float\", [None, n_input])\n",
        "y = tf.placeholder(tf.int64, [None])\n",
        "\n",
        "predictions = multilayer_perceptron(x, weights, biases, keep_prob)\n",
        "\n",
        "cost = tf.reduce_mean(tf.nn.sparse_softmax_cross_entropy_with_logits(labels=y, logits=predictions))\n",
        "optimizer = tf.train.AdamOptimizer(learning_rate=0.0001).minimize(cost)\n",
        "\n",
        "\n",
        "with tf.Session() as sess:\n",
        "    sess.run(tf.global_variables_initializer())\n",
        "    \n",
        "    for epoch in range(training_epochs):\n",
        "        avg_cost = 0.0\n",
        "        total_batch = int(len(X_train) / batch_size)\n",
        "        x_batches = np.array_split(X_train, total_batch)\n",
        "        y_batches = np.array_split(Y_train, total_batch)\n",
        "        for i in range(total_batch):\n",
        "            batch_x, batch_y = x_batches[i], y_batches[i]\n",
        "            _, c = sess.run([optimizer, cost], \n",
        "                            feed_dict={\n",
        "                                x: batch_x, \n",
        "                                y: batch_y, \n",
        "                                keep_prob: 0.8\n",
        "                            })\n",
        "            avg_cost += c / total_batch\n",
        "        if epoch % display_step == 0:\n",
        "            print(\"Epoch:\", '%04d' % (epoch+1), \"cost=\", \\\n",
        "                \"{:.9f}\".format(avg_cost))\n",
        "    print(\"Optimization Finished!\")\n",
        "    correct_prediction = tf.equal(tf.argmax(predictions, 1), y)\n",
        "    accuracy = tf.reduce_mean(tf.cast(correct_prediction, \"float\"))\n",
        "    print(\"Accuracy:\", accuracy.eval({x: X_test, y: Y_test, keep_prob: 1.0}))"
      ],
      "execution_count": 2,
      "outputs": [
        {
          "output_type": "stream",
          "text": [
            "Epoch: 0001 cost= 291.721559475\n",
            "Epoch: 1001 cost= 0.215419255\n",
            "Epoch: 2001 cost= 0.166719687\n",
            "Epoch: 3001 cost= 0.137684517\n",
            "Epoch: 4001 cost= 0.137787282\n",
            "Optimization Finished!\n",
            "Accuracy: 0.9533116\n"
          ],
          "name": "stdout"
        }
      ]
    },
    {
      "metadata": {
        "id": "yP-50RSvQm6b",
        "colab_type": "text"
      },
      "cell_type": "markdown",
      "source": [
        "##Creating and Running the Network (Keras)"
      ]
    },
    {
      "metadata": {
        "id": "GQbw2sINJ1fC",
        "colab_type": "code",
        "colab": {
          "base_uri": "https://localhost:8080/",
          "height": 3434
        },
        "outputId": "98ed381f-490a-4d04-ba42-89ce4e0f813c"
      },
      "cell_type": "code",
      "source": [
        "# Initializing the Neural Network\n",
        "spamClassifier = Sequential()\n",
        "\n",
        "# Defining input layer and first hidden layer\n",
        "# Number of nodes matches features, features/2\n",
        "spamClassifier.add(Dense(units = 28, kernel_initializer = 'uniform', activation = 'relu', input_dim = 57))\n",
        "\n",
        "# Defining 2nd layer\n",
        "spamClassifier.add(Dense(units = 28, kernel_initializer = 'uniform', activation = 'relu'))\n",
        "\n",
        "# Defining output layer\n",
        "spamClassifier.add(Dense(units = 1, kernel_initializer = 'uniform', activation = 'sigmoid'))\n",
        "\n",
        "# Setting hyperparameters\n",
        "spamClassifier.compile(optimizer = 'adam', loss = 'binary_crossentropy', metrics = ['accuracy'])\n",
        "\n",
        "spamClassifier.fit(X_train, Y_train, batch_size = 20, epochs = 100)"
      ],
      "execution_count": 3,
      "outputs": [
        {
          "output_type": "stream",
          "text": [
            "Epoch 1/100\n",
            "3680/3680 [==============================] - 2s 457us/step - loss: 0.5850 - acc: 0.7465\n",
            "Epoch 2/100\n",
            "3680/3680 [==============================] - 1s 371us/step - loss: 0.4208 - acc: 0.8389\n",
            "Epoch 3/100\n",
            "3680/3680 [==============================] - 1s 373us/step - loss: 0.3132 - acc: 0.8837\n",
            "Epoch 4/100\n",
            "3680/3680 [==============================] - 1s 364us/step - loss: 0.2489 - acc: 0.9106\n",
            "Epoch 5/100\n",
            "3680/3680 [==============================] - 1s 374us/step - loss: 0.3061 - acc: 0.8984\n",
            "Epoch 6/100\n",
            "3680/3680 [==============================] - 1s 374us/step - loss: 0.2209 - acc: 0.9182\n",
            "Epoch 7/100\n",
            "3680/3680 [==============================] - 1s 376us/step - loss: 0.2217 - acc: 0.9190\n",
            "Epoch 8/100\n",
            "3680/3680 [==============================] - 1s 370us/step - loss: 0.2347 - acc: 0.9174\n",
            "Epoch 9/100\n",
            " 440/3680 [==>...........................] - ETA: 1s - loss: 0.2172 - acc: 0.9250"
          ],
          "name": "stdout"
        },
        {
          "output_type": "stream",
          "text": [
            "3680/3680 [==============================] - 1s 371us/step - loss: 0.2597 - acc: 0.9179\n",
            "Epoch 10/100\n",
            "3680/3680 [==============================] - 1s 369us/step - loss: 0.2514 - acc: 0.9084\n",
            "Epoch 11/100\n",
            "3680/3680 [==============================] - 1s 371us/step - loss: 0.2021 - acc: 0.9261\n",
            "Epoch 12/100\n",
            "3680/3680 [==============================] - 1s 362us/step - loss: 0.2326 - acc: 0.9201\n",
            "Epoch 13/100\n",
            "3680/3680 [==============================] - 1s 367us/step - loss: 0.2091 - acc: 0.9204\n",
            "Epoch 14/100\n",
            "3680/3680 [==============================] - 1s 377us/step - loss: 0.1847 - acc: 0.9323\n",
            "Epoch 15/100\n",
            "3680/3680 [==============================] - 1s 367us/step - loss: 0.2527 - acc: 0.9046\n",
            "Epoch 16/100\n",
            "3680/3680 [==============================] - 1s 372us/step - loss: 0.1969 - acc: 0.9285\n",
            "Epoch 17/100\n",
            "1160/3680 [========>.....................] - ETA: 0s - loss: 0.1761 - acc: 0.9371"
          ],
          "name": "stdout"
        },
        {
          "output_type": "stream",
          "text": [
            "3680/3680 [==============================] - 1s 373us/step - loss: 0.1884 - acc: 0.9296\n",
            "Epoch 18/100\n",
            "3680/3680 [==============================] - 1s 370us/step - loss: 0.1870 - acc: 0.9340\n",
            "Epoch 19/100\n",
            "3680/3680 [==============================] - 1s 378us/step - loss: 0.1768 - acc: 0.9359\n",
            "Epoch 20/100\n",
            "3680/3680 [==============================] - 1s 373us/step - loss: 0.1793 - acc: 0.9323\n",
            "Epoch 21/100\n",
            "3680/3680 [==============================] - 1s 366us/step - loss: 0.1782 - acc: 0.9342\n",
            "Epoch 22/100\n",
            "3680/3680 [==============================] - 1s 364us/step - loss: 0.1962 - acc: 0.9285\n",
            "Epoch 23/100\n",
            "3680/3680 [==============================] - 1s 365us/step - loss: 0.1873 - acc: 0.9310\n",
            "Epoch 24/100\n",
            "3680/3680 [==============================] - 1s 374us/step - loss: 0.1725 - acc: 0.9372\n",
            "Epoch 25/100\n",
            "1320/3680 [=========>....................] - ETA: 0s - loss: 0.1719 - acc: 0.9417"
          ],
          "name": "stdout"
        },
        {
          "output_type": "stream",
          "text": [
            "3680/3680 [==============================] - 1s 367us/step - loss: 0.1710 - acc: 0.9370\n",
            "Epoch 26/100\n",
            "3680/3680 [==============================] - 1s 364us/step - loss: 0.1896 - acc: 0.9307\n",
            "Epoch 27/100\n",
            "3680/3680 [==============================] - 1s 374us/step - loss: 0.2045 - acc: 0.9215\n",
            "Epoch 28/100\n",
            "3680/3680 [==============================] - 1s 374us/step - loss: 0.1880 - acc: 0.9302\n",
            "Epoch 29/100\n",
            "3680/3680 [==============================] - 1s 370us/step - loss: 0.1630 - acc: 0.9383\n",
            "Epoch 30/100\n",
            "3680/3680 [==============================] - 1s 367us/step - loss: 0.2061 - acc: 0.9231\n",
            "Epoch 31/100\n",
            "3680/3680 [==============================] - 1s 368us/step - loss: 0.1773 - acc: 0.9326\n",
            "Epoch 32/100\n",
            "3680/3680 [==============================] - 1s 375us/step - loss: 0.1623 - acc: 0.9408\n",
            "Epoch 33/100\n",
            " 880/3680 [======>.......................] - ETA: 1s - loss: 0.2701 - acc: 0.8920"
          ],
          "name": "stdout"
        },
        {
          "output_type": "stream",
          "text": [
            "3680/3680 [==============================] - 1s 375us/step - loss: 0.1827 - acc: 0.9321\n",
            "Epoch 34/100\n",
            "3680/3680 [==============================] - 1s 366us/step - loss: 0.1671 - acc: 0.9391\n",
            "Epoch 35/100\n",
            "3680/3680 [==============================] - 1s 362us/step - loss: 0.1736 - acc: 0.9345\n",
            "Epoch 36/100\n",
            "3680/3680 [==============================] - 1s 365us/step - loss: 0.1534 - acc: 0.9437\n",
            "Epoch 37/100\n",
            "3680/3680 [==============================] - 1s 376us/step - loss: 0.1527 - acc: 0.9421\n",
            "Epoch 38/100\n",
            "3680/3680 [==============================] - 1s 366us/step - loss: 0.1576 - acc: 0.9413\n",
            "Epoch 39/100\n",
            "3680/3680 [==============================] - 1s 367us/step - loss: 0.1630 - acc: 0.9416\n",
            "Epoch 40/100\n",
            "3680/3680 [==============================] - 1s 369us/step - loss: 0.1560 - acc: 0.9440\n",
            "Epoch 41/100\n",
            "1060/3680 [=======>......................] - ETA: 0s - loss: 0.1645 - acc: 0.9292"
          ],
          "name": "stdout"
        },
        {
          "output_type": "stream",
          "text": [
            "3680/3680 [==============================] - 1s 371us/step - loss: 0.1581 - acc: 0.9399\n",
            "Epoch 42/100\n",
            "3680/3680 [==============================] - 1s 370us/step - loss: 0.1593 - acc: 0.9383\n",
            "Epoch 43/100\n",
            "3680/3680 [==============================] - 1s 367us/step - loss: 0.1605 - acc: 0.9416\n",
            "Epoch 44/100\n",
            "3680/3680 [==============================] - 1s 366us/step - loss: 0.1669 - acc: 0.9370\n",
            "Epoch 45/100\n",
            "3680/3680 [==============================] - 1s 375us/step - loss: 0.1580 - acc: 0.9427\n",
            "Epoch 46/100\n",
            "3680/3680 [==============================] - 1s 374us/step - loss: 0.1487 - acc: 0.9443\n",
            "Epoch 47/100\n",
            "3680/3680 [==============================] - 1s 371us/step - loss: 0.1673 - acc: 0.9356\n",
            "Epoch 48/100\n",
            "3680/3680 [==============================] - 1s 377us/step - loss: 0.1456 - acc: 0.9459\n",
            "Epoch 49/100\n",
            "1020/3680 [=======>......................] - ETA: 0s - loss: 0.1326 - acc: 0.9529"
          ],
          "name": "stdout"
        },
        {
          "output_type": "stream",
          "text": [
            "3680/3680 [==============================] - 1s 381us/step - loss: 0.1386 - acc: 0.9492\n",
            "Epoch 50/100\n",
            "3680/3680 [==============================] - 1s 375us/step - loss: 0.1486 - acc: 0.9443\n",
            "Epoch 51/100\n",
            "3680/3680 [==============================] - 1s 370us/step - loss: 0.1510 - acc: 0.9424\n",
            "Epoch 52/100\n",
            "3680/3680 [==============================] - 1s 374us/step - loss: 0.1405 - acc: 0.9473\n",
            "Epoch 53/100\n",
            "3680/3680 [==============================] - 1s 376us/step - loss: 0.1497 - acc: 0.9465\n",
            "Epoch 54/100\n",
            "3680/3680 [==============================] - 1s 366us/step - loss: 0.1617 - acc: 0.9446\n",
            "Epoch 55/100\n",
            "3680/3680 [==============================] - 1s 365us/step - loss: 0.1415 - acc: 0.9486\n",
            "Epoch 56/100\n",
            "3680/3680 [==============================] - 1s 363us/step - loss: 0.1380 - acc: 0.9478\n",
            "Epoch 57/100\n",
            " 900/3680 [======>.......................] - ETA: 1s - loss: 0.1289 - acc: 0.9589"
          ],
          "name": "stdout"
        },
        {
          "output_type": "stream",
          "text": [
            "3680/3680 [==============================] - 1s 368us/step - loss: 0.1417 - acc: 0.9495\n",
            "Epoch 58/100\n",
            "3680/3680 [==============================] - 1s 380us/step - loss: 0.1393 - acc: 0.9489\n",
            "Epoch 59/100\n",
            "3680/3680 [==============================] - 1s 371us/step - loss: 0.1537 - acc: 0.9459\n",
            "Epoch 60/100\n",
            "3680/3680 [==============================] - 1s 373us/step - loss: 0.1299 - acc: 0.9530\n",
            "Epoch 61/100\n",
            "3680/3680 [==============================] - 1s 371us/step - loss: 0.1370 - acc: 0.9524\n",
            "Epoch 62/100\n",
            "3680/3680 [==============================] - 1s 364us/step - loss: 0.1311 - acc: 0.9516\n",
            "Epoch 63/100\n",
            "3680/3680 [==============================] - 1s 363us/step - loss: 0.1766 - acc: 0.9389\n",
            "Epoch 64/100\n",
            "3680/3680 [==============================] - 1s 357us/step - loss: 0.1560 - acc: 0.9410\n",
            "Epoch 65/100\n",
            "1200/3680 [========>.....................] - ETA: 0s - loss: 0.1796 - acc: 0.9308"
          ],
          "name": "stdout"
        },
        {
          "output_type": "stream",
          "text": [
            "3680/3680 [==============================] - 1s 364us/step - loss: 0.1764 - acc: 0.9342\n",
            "Epoch 66/100\n",
            "3680/3680 [==============================] - 1s 365us/step - loss: 0.1442 - acc: 0.9457\n",
            "Epoch 67/100\n",
            "3680/3680 [==============================] - 1s 370us/step - loss: 0.1465 - acc: 0.9459\n",
            "Epoch 68/100\n",
            "3680/3680 [==============================] - 1s 373us/step - loss: 0.1441 - acc: 0.9484\n",
            "Epoch 69/100\n",
            "3680/3680 [==============================] - 1s 374us/step - loss: 0.1413 - acc: 0.9481\n",
            "Epoch 70/100\n",
            "3680/3680 [==============================] - 1s 378us/step - loss: 0.1315 - acc: 0.9519\n",
            "Epoch 71/100\n",
            "3680/3680 [==============================] - 1s 369us/step - loss: 0.1305 - acc: 0.9497\n",
            "Epoch 72/100\n",
            "3680/3680 [==============================] - 1s 366us/step - loss: 0.1375 - acc: 0.9478\n",
            "Epoch 73/100\n",
            "1020/3680 [=======>......................] - ETA: 1s - loss: 0.1384 - acc: 0.9520"
          ],
          "name": "stdout"
        },
        {
          "output_type": "stream",
          "text": [
            "3680/3680 [==============================] - 1s 374us/step - loss: 0.1471 - acc: 0.9459\n",
            "Epoch 74/100\n",
            "3680/3680 [==============================] - 1s 365us/step - loss: 0.1330 - acc: 0.9505\n",
            "Epoch 75/100\n",
            "3680/3680 [==============================] - 1s 367us/step - loss: 0.1272 - acc: 0.9535\n",
            "Epoch 76/100\n",
            "3680/3680 [==============================] - 1s 366us/step - loss: 0.1351 - acc: 0.9505\n",
            "Epoch 77/100\n",
            "3680/3680 [==============================] - 1s 364us/step - loss: 0.1244 - acc: 0.9535\n",
            "Epoch 78/100\n",
            "3680/3680 [==============================] - 1s 371us/step - loss: 0.1229 - acc: 0.9546\n",
            "Epoch 79/100\n",
            "3680/3680 [==============================] - 1s 372us/step - loss: 0.1311 - acc: 0.9543\n",
            "Epoch 80/100\n",
            "3680/3680 [==============================] - 1s 373us/step - loss: 0.1277 - acc: 0.9552\n",
            "Epoch 81/100\n",
            "1200/3680 [========>.....................] - ETA: 0s - loss: 0.1118 - acc: 0.9550"
          ],
          "name": "stdout"
        },
        {
          "output_type": "stream",
          "text": [
            "3680/3680 [==============================] - 1s 368us/step - loss: 0.1175 - acc: 0.9584\n",
            "Epoch 82/100\n",
            "3680/3680 [==============================] - 1s 371us/step - loss: 0.1222 - acc: 0.9562\n",
            "Epoch 83/100\n",
            "3680/3680 [==============================] - 1s 377us/step - loss: 0.1177 - acc: 0.9535\n",
            "Epoch 84/100\n",
            "3680/3680 [==============================] - 1s 378us/step - loss: 0.1107 - acc: 0.9587\n",
            "Epoch 85/100\n",
            "3680/3680 [==============================] - 1s 378us/step - loss: 0.1193 - acc: 0.9560\n",
            "Epoch 86/100\n",
            "3680/3680 [==============================] - 1s 372us/step - loss: 0.1142 - acc: 0.9601\n",
            "Epoch 87/100\n",
            "3680/3680 [==============================] - 1s 381us/step - loss: 0.1205 - acc: 0.9565\n",
            "Epoch 88/100\n",
            "3680/3680 [==============================] - 1s 377us/step - loss: 0.1234 - acc: 0.9571\n",
            "Epoch 89/100\n",
            " 700/3680 [====>.........................] - ETA: 1s - loss: 0.2216 - acc: 0.9171"
          ],
          "name": "stdout"
        },
        {
          "output_type": "stream",
          "text": [
            "3680/3680 [==============================] - 1s 378us/step - loss: 0.1577 - acc: 0.9402\n",
            "Epoch 90/100\n",
            "3680/3680 [==============================] - 1s 381us/step - loss: 0.1310 - acc: 0.9519\n",
            "Epoch 91/100\n",
            "3680/3680 [==============================] - 1s 380us/step - loss: 0.1180 - acc: 0.9565\n",
            "Epoch 92/100\n",
            "3680/3680 [==============================] - 1s 386us/step - loss: 0.1171 - acc: 0.9562\n",
            "Epoch 93/100\n",
            "3680/3680 [==============================] - 1s 365us/step - loss: 0.1191 - acc: 0.9565\n",
            "Epoch 94/100\n",
            "3680/3680 [==============================] - 1s 378us/step - loss: 0.1168 - acc: 0.9595\n",
            "Epoch 95/100\n",
            "3680/3680 [==============================] - 1s 367us/step - loss: 0.1149 - acc: 0.9571\n",
            "Epoch 96/100\n",
            "3680/3680 [==============================] - 1s 369us/step - loss: 0.1098 - acc: 0.9606\n",
            "Epoch 97/100\n",
            " 740/3680 [=====>........................] - ETA: 1s - loss: 0.1252 - acc: 0.9473"
          ],
          "name": "stdout"
        },
        {
          "output_type": "stream",
          "text": [
            "3680/3680 [==============================] - 1s 365us/step - loss: 0.1155 - acc: 0.9549\n",
            "Epoch 98/100\n",
            "3680/3680 [==============================] - 1s 375us/step - loss: 0.1122 - acc: 0.9595\n",
            "Epoch 99/100\n",
            "3680/3680 [==============================] - 1s 370us/step - loss: 0.1036 - acc: 0.9630\n",
            "Epoch 100/100\n",
            "3680/3680 [==============================] - 1s 373us/step - loss: 0.1082 - acc: 0.9598\n"
          ],
          "name": "stdout"
        },
        {
          "output_type": "execute_result",
          "data": {
            "text/plain": [
              "<keras.callbacks.History at 0x7f341aa88ba8>"
            ]
          },
          "metadata": {
            "tags": []
          },
          "execution_count": 3
        }
      ]
    },
    {
      "metadata": {
        "id": "KiG8ao_OZx6z",
        "colab_type": "text"
      },
      "cell_type": "markdown",
      "source": [
        "##Resources:</br>\n",
        "https://towardsdatascience.com/neural-networks-with-google-colaboratory-artificial-intelligence-getting-started-713b5eb07f14 </br>\n",
        "https://medium.com/@curiousily/tensorflow-for-hackers-part-ii-building-simple-neural-network-2d6779d2f91b</br>\n",
        "https://www.analyticsvidhya.com/blog/2016/10/an-introduction-to-implementing-neural-networks-using-tensorflow/"
      ]
    }
  ]
}